%%html
<style type='text/css'>
.CodeMirror{
    font-family: 'consolas';
    font-size: 20px;
    background-color: #efdccc;
}
#notebook_panel,.cell, .CodeMirror-gutters{
    background-color: #efdccc;
}
.CodeMirror-linenumber {
    background-color: #efdccc;
    color:#000;
}
#notebook-container {
    background-color: #f2e5d9;

}
</style>
