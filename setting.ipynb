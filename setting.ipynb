%%html
<style type='text/css'>
.CodeMirror{
    font-family: 'consolas';
    font-size: 20px;
    background-color: #F0E1B9;
}
#notebook_panel,.cell, .CodeMirror-gutters{
    background-color: #F0E1B9;
}
.CodeMirror-linenumber {
    background-color: #F0E1B9;
    color:#000;
}
</style>
